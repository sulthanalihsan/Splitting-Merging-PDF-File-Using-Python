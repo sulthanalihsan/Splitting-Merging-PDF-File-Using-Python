{
 "cells": [
  {
   "cell_type": "markdown",
   "metadata": {},
   "source": [
    "In this project I used a library\n",
    "- PyPDF2\n",
    "\n",
    "The command to install them is as follows:\n",
    "- pip install PyPDF2"
   ]
  },
  {
   "cell_type": "markdown",
   "metadata": {},
   "source": [
    "### Import a Libraries"
   ]
  },
  {
   "cell_type": "code",
   "execution_count": 1,
   "metadata": {},
   "outputs": [],
   "source": [
    "import PyPDF2 \n",
    "import os"
   ]
  },
  {
   "cell_type": "markdown",
   "metadata": {},
   "source": [
    "## How to Splitting PDF File\n",
    "This feature can be useful for companies and individuals as it can be used \n",
    "\n",
    "to separate a large document or newspaper into multiple PDF files"
   ]
  },
  {
   "cell_type": "code",
   "execution_count": 2,
   "metadata": {},
   "outputs": [],
   "source": [
    "def pdfFileSplit(path):\n",
    "    # Read current PDF name\n",
    "    fname = os.path.splitext(os.path.basename(path))[0]\n",
    "    \n",
    "    # creating a pdf file object \n",
    "    pdf = PyPDF2.PdfFileReader(path)\n",
    "    \n",
    "    # Go through pdf file object \n",
    "    for page in range(pdf.getNumPages()):\n",
    "        pdf_writer = PyPDF2.PdfFileWriter()\n",
    "        pdf_writer.addPage(pdf.getPage(page))\n",
    "        \n",
    "        # Name under which the pdf will be saved\n",
    "        output_filename = '{}_splitPage_{}.pdf'.format(\n",
    "            fname, page+1)\n",
    "        \n",
    "        # Save separate PDF files\n",
    "        with open(output_filename, 'wb') as out:\n",
    "            pdf_writer.write(out)\n",
    "            \n",
    "        print('Created: {}'.format(output_filename))"
   ]
  },
  {
   "cell_type": "code",
   "execution_count": 3,
   "metadata": {},
   "outputs": [
    {
     "name": "stdout",
     "output_type": "stream",
     "text": [
      "Created: Lebenslauf_Tchouta_Fabrice_splitPage_1.pdf\n",
      "Created: Lebenslauf_Tchouta_Fabrice_splitPage_2.pdf\n",
      "Created: Lebenslauf_Tchouta_Fabrice_splitPage_3.pdf\n"
     ]
    }
   ],
   "source": [
    "# Call a splitting-Funktion\n",
    "pdfFileSplit('Lebenslauf_Tchouta_Fabrice.pdf')"
   ]
  },
  {
   "cell_type": "markdown",
   "metadata": {},
   "source": [
    "# How To Merging Multiple PDFs Together\n",
    " This feature can be useful for companies and individuals because it can be used, \n",
    " \n",
    " for example, to merge documents or daily newspapers into a single PDF file."
   ]
  },
  {
   "cell_type": "code",
   "execution_count": 4,
   "metadata": {},
   "outputs": [],
   "source": [
    "def pdfFileMerger(output_path, input_paths):\n",
    "    pdf_merger = PyPDF2.PdfFileMerger()\n",
    "    file_handles = []\n",
    "    \n",
    "    for path in input_paths:\n",
    "        pdf_merger.append(path)\n",
    "    \n",
    "    # Save merging PDF file \n",
    "    with open(output_path, 'wb') as fileobj:\n",
    "        pdf_merger.write(fileobj)\n",
    "    \n",
    "    print('Created: {}'.format(output_path))"
   ]
  },
  {
   "cell_type": "code",
   "execution_count": 5,
   "metadata": {},
   "outputs": [
    {
     "name": "stdout",
     "output_type": "stream",
     "text": [
      "Created: Lebenslauf_Tchouta_Fabrice_merging.pdf\n"
     ]
    }
   ],
   "source": [
    "# List of single PDF files \n",
    "singlePDF = ['Lebenslauf_Tchouta_Fabrice_splitPage_1.pdf',\n",
    "             'Lebenslauf_Tchouta_Fabrice_splitPage_2.pdf',\n",
    "             'Lebenslauf_Tchouta_Fabrice_splitPage_3.pdf']\n",
    "\n",
    "# Call a Merge-Funktion \n",
    "pdfFileMerger('Lebenslauf_Tchouta_Fabrice_merging.pdf', singlePDF)"
   ]
  }
 ],
 "metadata": {
  "kernelspec": {
   "display_name": "Python 3",
   "language": "python",
   "name": "python3"
  },
  "language_info": {
   "codemirror_mode": {
    "name": "ipython",
    "version": 3
   },
   "file_extension": ".py",
   "mimetype": "text/x-python",
   "name": "python",
   "nbconvert_exporter": "python",
   "pygments_lexer": "ipython3",
   "version": "3.7.1"
  }
 },
 "nbformat": 4,
 "nbformat_minor": 2
}
